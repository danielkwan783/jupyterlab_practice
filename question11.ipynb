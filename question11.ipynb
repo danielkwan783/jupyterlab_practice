{
 "cells": [
  {
   "cell_type": "markdown",
   "id": "1efe50f1-3b3a-4d2a-8919-2bf9fc4fe222",
   "metadata": {},
   "source": [
    "# Daniel Kwan\n",
    "Notebook for assignment 7"
   ]
  },
  {
   "cell_type": "code",
   "execution_count": 1,
   "id": "96045bf0-b1b9-4191-b423-a48a970527fb",
   "metadata": {},
   "outputs": [
    {
     "data": {
      "text/plain": [
       "5.0"
      ]
     },
     "execution_count": 1,
     "metadata": {},
     "output_type": "execute_result"
    }
   ],
   "source": [
    "def compute_mean(numerical_list):\n",
    "\n",
    "    mean_of_list = sum(numerical_list) / len(numerical_list)\n",
    "\n",
    "    return mean_of_list\n",
    "\n",
    "compute_mean([2, 4, 6, 8])"
   ]
  },
  {
   "cell_type": "markdown",
   "id": "07951dce-c8f7-4ddf-a59d-af7b4c1c2841",
   "metadata": {},
   "source": [
    "The above function `compute_mean` takes in a numerical list as its argument and returns the mean of its components by first calculating the sum of the components and then dividing it with the number of components within the list.  \n",
    "\n",
    "The operation can be explained by the following equation: \n",
    "\n",
    "$$\n",
    "\\bar{x} = \\frac{x_1 + x_2 + \\cdots + x_n}{n} = \\frac{1}{n} (\\sum_{i=1}^n x_i) \n",
    "$$\n",
    "\n",
    "where $ x_1, x_2, \\ldots, x_n $ are the components of the list, and $n$ is the number of components within the list. "
   ]
  }
 ],
 "metadata": {
  "kernelspec": {
   "display_name": "Python [conda env:dstba7]",
   "language": "python",
   "name": "conda-env-dstba7-py"
  },
  "language_info": {
   "codemirror_mode": {
    "name": "ipython",
    "version": 3
   },
   "file_extension": ".py",
   "mimetype": "text/x-python",
   "name": "python",
   "nbconvert_exporter": "python",
   "pygments_lexer": "ipython3",
   "version": "3.13.2"
  }
 },
 "nbformat": 4,
 "nbformat_minor": 5
}
